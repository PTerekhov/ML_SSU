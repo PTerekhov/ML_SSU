{
 "cells": [
  {
   "cell_type": "code",
   "execution_count": null,
   "metadata": {},
   "outputs": [],
   "source": [
    "!pip install opencv-python"
   ]
  },
  {
   "cell_type": "code",
   "execution_count": null,
   "metadata": {},
   "outputs": [],
   "source": [
    "%matplotlib inline\n",
    "import cv2\n",
    "import matplotlib.pyplot as plt\n",
    "from random import randint\n",
    "import numpy as np"
   ]
  },
  {
   "cell_type": "markdown",
   "metadata": {},
   "source": [
    "## Count  coins"
   ]
  },
  {
   "cell_type": "markdown",
   "metadata": {},
   "source": [
    "Обсудить этапы работы. Какие есть идеи как можно посчитать количество монет?\n",
    "\n",
    "1. Отделить белый фон от монет\n",
    "2. Найти контуры монет\n",
    "3. Посчитать количество контуров\n",
    "\n",
    "\n",
    "Дополнительные сложности:\n",
    "\n",
    "a. Изначальная картинка может быть шумной и фон выделится плохо, нужно слшаживание\n",
    "\n",
    "b. Близкие монеты могут быть обведены в один контур"
   ]
  },
  {
   "cell_type": "code",
   "execution_count": null,
   "metadata": {},
   "outputs": [],
   "source": [
    "# прочитать картинку с помощью opencv и нарисовать с помощью matplotlib\n",
    "img = "
   ]
  },
  {
   "cell_type": "code",
   "execution_count": null,
   "metadata": {},
   "outputs": [],
   "source": [
    "# почему изображение выглядит не так? исправьте это и нарисуйте снова\n",
    "img = "
   ]
  },
  {
   "cell_type": "code",
   "execution_count": null,
   "metadata": {},
   "outputs": [],
   "source": [
    "# важен ли нам цвет монет? Если нет мы можем перевести в grayscale\n",
    "gray = "
   ]
  },
  {
   "cell_type": "code",
   "execution_count": null,
   "metadata": {},
   "outputs": [],
   "source": [
    "# фон одтононный, попробуйте выкинуть все белые пиксели\n",
    "_, thresh = "
   ]
  },
  {
   "cell_type": "code",
   "execution_count": null,
   "metadata": {},
   "outputs": [],
   "source": [
    "# сделайте то же самое, но предварительно сгладив gray с помощью гауссовского фильтра\n",
    "gray = \n",
    "_, thresh ="
   ]
  },
  {
   "cell_type": "code",
   "execution_count": null,
   "metadata": {},
   "outputs": [],
   "source": [
    "# сделайте границы между монетами более четкими, воспользуйтесь cv2.erode\n",
    "kernel = np.ones((5, 5),np.uint8)\n",
    "erode = "
   ]
  },
  {
   "cell_type": "code",
   "execution_count": null,
   "metadata": {
    "scrolled": false
   },
   "outputs": [],
   "source": [
    "# найдите контуры кругов и посмотрите их количество\n",
    "\n",
    "contours = \n",
    "\n",
    "print(\"{} contours have been found\".format(len(contours)))"
   ]
  },
  {
   "cell_type": "code",
   "execution_count": null,
   "metadata": {},
   "outputs": [],
   "source": [
    "# нарисуйте контуры поверх img\n",
    "for contour in contours:\n",
    "    cv2.drawContours(img, [contour], 0, (randint(0, 255), randint(0, 255), randint(0, 255)), -1)\n",
    "    \n",
    "plt.imshow(img)\n",
    "plt.show()"
   ]
  }
 ],
 "metadata": {
  "kernelspec": {
   "display_name": "Python 3",
   "language": "python",
   "name": "python3"
  },
  "language_info": {
   "codemirror_mode": {
    "name": "ipython",
    "version": 3
   },
   "file_extension": ".py",
   "mimetype": "text/x-python",
   "name": "python",
   "nbconvert_exporter": "python",
   "pygments_lexer": "ipython3",
   "version": "3.6.2"
  }
 },
 "nbformat": 4,
 "nbformat_minor": 2
}
