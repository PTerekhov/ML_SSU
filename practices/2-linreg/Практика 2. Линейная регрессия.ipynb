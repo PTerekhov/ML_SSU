{
 "cells": [
  {
   "cell_type": "code",
   "execution_count": 2,
   "metadata": {},
   "outputs": [],
   "source": [
    "import pandas as pd\n",
    "from glob import glob\n",
    "import os\n",
    "from PIL import Image\n",
    "import numpy as np\n",
    "import random"
   ]
  },
  {
   "cell_type": "code",
   "execution_count": 3,
   "metadata": {},
   "outputs": [
    {
     "name": "stderr",
     "output_type": "stream",
     "text": [
      "Using TensorFlow backend.\n"
     ]
    }
   ],
   "source": [
    "from keras.applications.resnet50 import ResNet50\n",
    "from keras.preprocessing import image\n",
    "from keras.applications.resnet50 import preprocess_input, decode_predictions"
   ]
  },
  {
   "cell_type": "code",
   "execution_count": 4,
   "metadata": {},
   "outputs": [],
   "source": [
    "from sklearn.linear_model import LogisticRegression\n",
    "from sklearn.model_selection import train_test_split\n",
    "from sklearn.metrics import accuracy_score, confusion_matrix"
   ]
  },
  {
   "cell_type": "code",
   "execution_count": 5,
   "metadata": {},
   "outputs": [],
   "source": [
    "# Добавьте ваш номер сюда. Номер можно получить у преподавателя.\n",
    "random.seed(34)"
   ]
  },
  {
   "cell_type": "code",
   "execution_count": 6,
   "metadata": {},
   "outputs": [],
   "source": [
    "# Скачайте полные данные отсюда https://www.kaggle.com/c/dogs-vs-cats/data (примерно 820мб)\n",
    "# У вас должно быть две папки train и test. Однако в данном задании мы не будем использвать test выборку\n",
    "# Функцию для чтения данных мы реализовали за вас\n",
    "\n",
    "def read_dataset(path):\n",
    "    X = []\n",
    "    y = []\n",
    "    \n",
    "    image_paths_list = glob(os.path.join('train', '*.jpg'))\n",
    "    image_paths_sample = random.sample(image_paths_list, 1000)\n",
    "\n",
    "    for image_path in image_paths_sample:\n",
    "        image_name = os.path.basename(image_path)\n",
    "        image_name_parts = image_name.split('.')\n",
    "        label = image_name_parts[0] if len(image_name_parts) == 3 else None\n",
    "\n",
    "        if label:\n",
    "            y.append(int(label == 'cat'))\n",
    "            \n",
    "        x = image.img_to_array(image.load_img(image_path, target_size=(224, 224)))\n",
    "        x = preprocess_input(x)\n",
    "            \n",
    "        X.append(x)\n",
    "            \n",
    "    return np.array(X), y"
   ]
  },
  {
   "cell_type": "code",
   "execution_count": 7,
   "metadata": {},
   "outputs": [],
   "source": [
    "# Используйте функцию read_dataset чтобы получить обучающую выборку\n",
    "# your code\n",
    "\n",
    "# Создаём модель для получения эмбеддингов\n",
    "model = ResNet50(weights='imagenet')\n",
    "\n",
    "# Используя объект model постройте эмбеддинги для обучающей выборки\n",
    "# your code"
   ]
  },
  {
   "cell_type": "code",
   "execution_count": 8,
   "metadata": {},
   "outputs": [],
   "source": [
    "# с помощью функции train_test_split поделите выборку на train и test в отношении 70/30\n",
    "# Не забывайте использовать random_state\n",
    "# В качестве признаков используйте эмбеддинги, полученные на предыдущем шаге\n",
    "# your code"
   ]
  },
  {
   "cell_type": "code",
   "execution_count": 9,
   "metadata": {},
   "outputs": [],
   "source": [
    "# создайте объект LogisticRegression c метрикой l2\n",
    "# Не забывайте использовать random_state\n",
    "# Обучите её с использованием train множества, полученного на предыдущем шаге\n",
    "# your code"
   ]
  },
  {
   "cell_type": "code",
   "execution_count": 10,
   "metadata": {},
   "outputs": [],
   "source": [
    "# Получите предсказания на тестовом множестве\n",
    "# your code"
   ]
  },
  {
   "cell_type": "code",
   "execution_count": 11,
   "metadata": {},
   "outputs": [],
   "source": [
    "# С помощью функцй accuracy_score и confusion_matrix оцените результаты\n",
    "# your code\n",
    "# your code"
   ]
  },
  {
   "cell_type": "code",
   "execution_count": null,
   "metadata": {},
   "outputs": [],
   "source": []
  }
 ],
 "metadata": {
  "kernelspec": {
   "display_name": "Python 3",
   "language": "python",
   "name": "python3"
  },
  "language_info": {
   "codemirror_mode": {
    "name": "ipython",
    "version": 3
   },
   "file_extension": ".py",
   "mimetype": "text/x-python",
   "name": "python",
   "nbconvert_exporter": "python",
   "pygments_lexer": "ipython3",
   "version": "3.6.6"
  }
 },
 "nbformat": 4,
 "nbformat_minor": 2
}
